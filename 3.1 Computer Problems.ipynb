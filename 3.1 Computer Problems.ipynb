{
 "cells": [
  {
   "cell_type": "code",
   "execution_count": 1,
   "metadata": {},
   "outputs": [],
   "source": [
    "import numpy as np\n",
    "import math"
   ]
  },
  {
   "cell_type": "code",
   "execution_count": 2,
   "metadata": {},
   "outputs": [],
   "source": [
    "def newtdd(x, y, n):\n",
    "    '''Newton Divided Difference Interpolation Method\n",
    "    Computes coefficients of interpolating polynomial\n",
    "    Input: x and y are vectors containing the x and y coordinates of the n data points.\n",
    "    Output: coefficients c of interpolating polynomial in nested form.\n",
    "    '''\n",
    "    v = np.empty((n,n)) #creates an empty nxn matrix, v\n",
    "    c = np.empty(n) #creates an empty n-dimensional vector c\n",
    "    for j in range(n): #iterates through the rows of y\n",
    "        v[j] = y[j] #fill in y column of Newton Triangle\n",
    "    for i in range(1,n): #for column i,\n",
    "        for j in range(0, n+1-i): #fill in column from top to bottom\n",
    "            v[j-1,i] = (v[j,i-1]-v[j-1,i-1])/(x[j+i-1]-x[j-1])\n",
    "    for i in range(n):\n",
    "        c[i] = v[0,i]\n",
    "    return c"
   ]
  },
  {
   "cell_type": "code",
   "execution_count": 4,
   "metadata": {},
   "outputs": [],
   "source": [
    "def nest(d, c, x, b):\n",
    "    '''Evaluates polynomial from nested form using Horner's Method\n",
    "    Input: degree d of polynomial\n",
    "    array of d+1 coefficients c (constant term first)\n",
    "    x-coordinate x at which to evaluate, and\n",
    "    array of d base boints b, if needed\n",
    "    Output: value y of polynomial at x'''\n",
    "    y = c[d]\n",
    "    for i in range(d-1, -1, -1):\n",
    "        y = y*(x-b[i])+c[i]\n",
    "    return y"
   ]
  },
  {
   "cell_type": "code",
   "execution_count": 22,
   "metadata": {},
   "outputs": [
    {
     "name": "stdout",
     "output_type": "stream",
     "text": [
      "The world population in 1980 was:  4494564853\n"
     ]
    }
   ],
   "source": [
    "#3.1.1.a.\n",
    "x = np.array([[1970],[1990]])\n",
    "y = np.array([[3707475887],[5281653820]])\n",
    "p = 1980\n",
    "c = newtdd(x, y, 2)\n",
    "y = nest(1, c, p, x)\n",
    "print(\"The world population in 1980 was: \", int(y))"
   ]
  },
  {
   "cell_type": "code",
   "execution_count": 23,
   "metadata": {},
   "outputs": [
    {
     "name": "stdout",
     "output_type": "stream",
     "text": [
      "The world population in 1980 was:  4454831983\n"
     ]
    }
   ],
   "source": [
    "#3.1.1.b.\n",
    "x = np.array([[1960],[1970],[1990]])\n",
    "y = np.array([[3039585530],[3707475887],[5281653820]])\n",
    "p = 1980\n",
    "c = newtdd(x, y, 3)\n",
    "y = nest(2, c, p, x)\n",
    "print(\"The world population in 1980 was: \", int(y))"
   ]
  },
  {
   "cell_type": "code",
   "execution_count": 24,
   "metadata": {},
   "outputs": [
    {
     "name": "stdout",
     "output_type": "stream",
     "text": [
      "The world population in 1980 was:  4472888287\n"
     ]
    }
   ],
   "source": [
    "#3.1.1.c.\n",
    "x = np.array([[1960],[1970],[1990],[2000]])\n",
    "y = np.array([[3039585530],[3707475887],[5281653820],[6079603571]])\n",
    "p = 1980\n",
    "c = newtdd(x, y, 4)\n",
    "y = nest(3, c, p, x)\n",
    "print(\"The world population in 1980 was: \", int(y))"
   ]
  },
  {
   "cell_type": "code",
   "execution_count": 5,
   "metadata": {},
   "outputs": [],
   "source": [
    "#3.1.3.\n",
    "def polyinterp(x, y, x0):\n",
    "    n = len(x)\n",
    "    c = newtdd(x, y, n)\n",
    "    y0 = nest(n-1, c, x0, x)\n",
    "    return y0"
   ]
  },
  {
   "cell_type": "code",
   "execution_count": 17,
   "metadata": {},
   "outputs": [],
   "source": [
    "#3.1.4.\n",
    "#Fundamental Domain: [0, 2pi]\n",
    "def cos1(x):\n",
    "    '''Approximates a cosine curve with a degree 3 polynomial.\n",
    "    Input: x\n",
    "    Output: approximation for cos(x)\n",
    "    '''\n",
    "    b = np.empty(4)\n",
    "    yb = np.empty(4)\n",
    "    for i in range(4): #b holds base points\n",
    "        b[i] = math.pi*i/6\n",
    "    for i in range(4):\n",
    "        yb[i] = math.cos(b[i])\n",
    "    c = newtdd(b, yb, 4)\n",
    "    #for each input x, move x to the fundamental domain and evaluate the interpolating polynomial. \n",
    "    s = 1 #correct the sign of cos\n",
    "    x1 = x % (2*math.pi)\n",
    "    if math.pi/2 < x1 < math.pi: #quadrant 2\n",
    "        x1 = math.pi-x1\n",
    "        s = -1\n",
    "    elif math.pi < x1 < 3*math.pi/2: #quadrant 3\n",
    "        x1 = x1-math.pi\n",
    "        s = -1\n",
    "    elif 3*math.pi/2 < x1 < 2*math.pi: #quadrant 4\n",
    "        x1 = 2*math.pi-x1\n",
    "    y = s*nest(3, c, x1, b)\n",
    "    return y"
   ]
  },
  {
   "cell_type": "code",
   "execution_count": 27,
   "metadata": {},
   "outputs": [],
   "source": [
    "#3.1.5\n",
    "#Fundamental Domain: [0, pi/2]\n",
    "#tan(pi/2 - x)=1/tan(x)\n",
    "def tan1(x):\n",
    "    '''Approximates a tangent curve with a degree three polynomial.\n",
    "    Input: x\n",
    "    Output: Approximation for tan(x)'''\n",
    "    b = np.empty(4)\n",
    "    b[0] = 0\n",
    "    b[1] = math.pi/6\n",
    "    b[2] = math.pi/4\n",
    "    b[3] = math.pi/3\n",
    "    yb = np.empty(4)\n",
    "    for i in range(4):\n",
    "        yb[i] = math.tan(b[i])\n",
    "    c= newtdd(b, yb, 4)\n",
    "    #for each input x, move x to the fundamental domain and evaluate the interpolating polynomial.\n",
    "    s = 1\n",
    "    x1 = x % math.pi\n",
    "    if math.pi/2 < x1 < math.pi:\n",
    "        x1 = math.pi - x1\n",
    "        s = -1\n",
    "    y = s*nest(3, c, x1, b)\n",
    "    return y"
   ]
  }
 ],
 "metadata": {
  "kernelspec": {
   "display_name": "Python 3",
   "language": "python",
   "name": "python3"
  },
  "language_info": {
   "codemirror_mode": {
    "name": "ipython",
    "version": 3
   },
   "file_extension": ".py",
   "mimetype": "text/x-python",
   "name": "python",
   "nbconvert_exporter": "python",
   "pygments_lexer": "ipython3",
   "version": "3.6.5"
  }
 },
 "nbformat": 4,
 "nbformat_minor": 2
}
